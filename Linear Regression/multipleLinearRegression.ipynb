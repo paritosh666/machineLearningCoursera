{
 "cells": [
  {
   "cell_type": "code",
   "execution_count": 8,
   "metadata": {},
   "outputs": [
    {
     "name": "stdout",
     "output_type": "stream",
     "text": [
      "ans =\n",
      "\n",
      "   2104      3\n",
      "   1600      3\n",
      "   2400      3\n",
      "   1416      2\n",
      "   3000      4\n",
      "\n",
      "ans =\n",
      "\n",
      "   399900\n",
      "   329900\n",
      "   369000\n",
      "   232000\n",
      "   539900\n",
      "\n"
     ]
    }
   ],
   "source": [
    "dt = load('ex1data2.txt'); %importing dataset with 2 variables \n",
    "x = dt(:,[1,2]); %Initialising the varibale matrix \n",
    "y = dt(:,3); % Initialising the y column vector\n",
    "x(1:5,:) %printing the first five features in x\n",
    "y(1:5,:)\n"
   ]
  },
  {
   "cell_type": "markdown",
   "metadata": {},
   "source": [
    "### Feature Normalization using Mean Normalization"
   ]
  },
  {
   "cell_type": "code",
   "execution_count": 3,
   "metadata": {},
   "outputs": [
    {
     "name": "stdout",
     "output_type": "stream",
     "text": [
      "ans =\n",
      "\n",
      "   0.1314  -0.2261\n",
      "  -0.5096  -0.2261\n",
      "   0.5079  -0.2261\n",
      "  -0.7437  -1.5544\n",
      "   1.2711   1.1022\n",
      "\n"
     ]
    }
   ],
   "source": [
    "function [normX, meanX, stdX] = featureNormalize(x, y)\n",
    "\n",
    "    normX = zeros(size(x)); %init of the normalized version of matrix X\n",
    "    meanX = zeros(1, size(x,1));  %init of vector to store the mean of each column of matrix X\n",
    "    stdX = zeros(1, size(x,1));  %init of vector to store the Standard Deviation of matrix X\n",
    "    \n",
    "    \n",
    "    \n",
    "    meanX = mean(x,1);  %calc of mean\n",
    "    stdX = std(x,1);    %calc of SD\n",
    "    \n",
    "    \n",
    "    normX = (x .- (repmat(meanX,length(y), 1)))./stdX;   %Normalising the matric with Mean Normalisation\n",
    "endfunction\n",
    "\n",
    "\n",
    "normX = featureNormalize(x, y);\n",
    "normX(1:5,:)\n"
   ]
  },
  {
   "cell_type": "markdown",
   "metadata": {},
   "source": [
    "### Compute Cost"
   ]
  },
  {
   "cell_type": "code",
   "execution_count": 9,
   "metadata": {},
   "outputs": [
    {
     "name": "stdout",
     "output_type": "stream",
     "text": [
      "theta =\n",
      "\n",
      "   3.4041e+05\n",
      "   1.0945e+05\n",
      "  -6.5783e+03\n",
      "\n",
      "J = 2.0433e+09\n",
      "ans = 2043280050.61\n"
     ]
    }
   ],
   "source": [
    "X = [ones(length(y),1), normX];  % adding x0 to x\n",
    "\n",
    "\n",
    "function J = computeCostMulti(X, y, theta)\n",
    "    m = length(y);\n",
    "    \n",
    "    J = 0;\n",
    "    \n",
    "    J = sum((X*theta-y).^2)/(2*m);\n",
    "\n",
    "\n",
    "endfunction\n",
    "\n",
    "theta\n",
    "J = computeCostMulti(X,y,theta)\n",
    "sprintf('%0.2f', J)"
   ]
  },
  {
   "cell_type": "code",
   "execution_count": 29,
   "metadata": {},
   "outputs": [
    {
     "name": "stdout",
     "output_type": "stream",
     "text": [
      "ans = 2043280050.61,\n",
      "theta =\n",
      "\n",
      "   3.4041e+05\n",
      "   1.0945e+05\n",
      "      -6578.3\n",
      "\n"
     ]
    }
   ],
   "source": [
    "theta = [0;0;0];\n",
    "alpha = 0.02;\n",
    "m = length(y);\n",
    "J_History = zeros(1500,1);\n",
    "\n",
    "for i=1:1500\n",
    "\n",
    "J_History(i) = computeCostMulti(X, y, theta);\n",
    "theta = theta - (((X'*(X*theta-y))./m)*alpha);\n",
    "\n",
    "endfor\n",
    "\n",
    "sprintf('%0.2f,',J)\n",
    "theta"
   ]
  },
  {
   "cell_type": "code",
   "execution_count": 28,
   "metadata": {},
   "outputs": [
    {
     "name": "stdout",
     "output_type": "stream",
     "text": [
      "ans = 2.0433e+09\n"
     ]
    }
   ],
   "source": [
    "format short g\n",
    "J_History(1500)"
   ]
  },
  {
   "cell_type": "code",
   "execution_count": null,
   "metadata": {},
   "outputs": [],
   "source": [
    "function [theta, J_history] = gradientDescentMulti(X, y, theta, alpha, num_iters)\n",
    "%GRADIENTDESCENTMULTI Performs gradient descent to learn theta\n",
    "%   theta = GRADIENTDESCENTMULTI(x, y, theta, alpha, num_iters) updates theta by\n",
    "%   taking num_iters gradient steps with learning rate alpha\n",
    "\n",
    "% Initialize some useful values\n",
    "m = length(y); % number of training examples\n",
    "J_history = zeros(num_iters, 1);\n",
    "\n",
    "for iter = 1:num_iters\n",
    "\n",
    "    % ====================== YOUR CODE HERE ======================\n",
    "    % Instructions: Perform a single gradient step on the parameter vector\n",
    "    %               theta. \n",
    "    %\n",
    "    % Hint: While debugging, it can be useful to print out the values\n",
    "    %       of the cost function (computeCostMulti) and gradient here.\n",
    "    %\n",
    "\n",
    "\n",
    "theta = theta - alpha*(X'*(X*theta-y))/m;\n",
    "\n",
    "\n",
    "\n",
    "\n",
    "\n",
    "\n",
    "\n",
    "\n",
    "    % ============================================================\n",
    "\n",
    "    % Save the cost J in every iteration    \n",
    "    J_history(iter) = computeCostMulti(X, y, theta);\n",
    "\n",
    "end\n",
    "\n",
    "end"
   ]
  },
  {
   "cell_type": "code",
   "execution_count": 25,
   "metadata": {},
   "outputs": [
    {
     "name": "stdout",
     "output_type": "stream",
     "text": [
      "ans =\n",
      "\n",
      "   3.4041e+05\n",
      "   1.0945e+05\n",
      "      -6578.3\n",
      "\n"
     ]
    }
   ],
   "source": [
    "gradientDescentMulti(X, y, theta, alpha, 1500)"
   ]
  },
  {
   "cell_type": "code",
   "execution_count": null,
   "metadata": {},
   "outputs": [],
   "source": []
  }
 ],
 "metadata": {
  "kernelspec": {
   "display_name": "Octave",
   "language": "octave",
   "name": "octave"
  },
  "language_info": {
   "file_extension": ".m",
   "help_links": [
    {
     "text": "GNU Octave",
     "url": "https://www.gnu.org/software/octave/support.html"
    },
    {
     "text": "Octave Kernel",
     "url": "https://github.com/Calysto/octave_kernel"
    },
    {
     "text": "MetaKernel Magics",
     "url": "https://metakernel.readthedocs.io/en/latest/source/README.html"
    }
   ],
   "mimetype": "text/x-octave",
   "name": "octave",
   "version": "6.1.0"
  }
 },
 "nbformat": 4,
 "nbformat_minor": 4
}
